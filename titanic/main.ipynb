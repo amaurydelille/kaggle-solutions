{
 "cells": [
  {
   "cell_type": "code",
   "execution_count": 7,
   "metadata": {},
   "outputs": [],
   "source": [
    "# IMPORTS\n",
    "\n",
    "import numpy as np \n",
    "import pandas as pd \n",
    "import random as rd\n",
    "import seaborn as sns\n",
    "from sklearn.ensemble import RandomForestClassifier\n",
    "from sklearn.impute import SimpleImputer"
   ]
  },
  {
   "cell_type": "code",
   "execution_count": null,
   "metadata": {},
   "outputs": [],
   "source": [
    "# PRE-PROCESSING\n",
    "\n",
    "train_df = pd.read_csv('/kaggle/input/spaceship-titanic/train.csv')\n",
    "test_df = pd.read_csv('/kaggle/input/spaceship-titanic/test.csv')\n",
    "\n",
    "# Store the PassengerId column for the submission\n",
    "column_ids = test_df['PassengerId']\n",
    "\n",
    "train_df.set_index('PassengerId', inplace=True)\n",
    "test_df.set_index('PassengerId', inplace=True)\n",
    "\n",
    "imputer = SimpleImputer(missing_values=np.nan, strategy='most_frequent')\n",
    "train_df = pd.DataFrame(imputer.fit_transform(train_df), columns=train_df.columns, index=train_df.index)\n",
    "test_df = pd.DataFrame(imputer.fit_transform(test_df), columns=test_df.columns, index=test_df.index)\n",
    "train_df = train_df.reset_index(drop=True)\n",
    "test_df = test_df.reset_index(drop=True)\n",
    "\n",
    "table_to_drop = ['Name', 'Destination', 'Spa', 'VRDeck']\n",
    "def drop_tables(tables, df):\n",
    "    df = df.drop(columns=tables)\n",
    "    return df\n",
    "\n",
    "train_df = drop_tables(table_to_drop, train_df)\n",
    "test_df = drop_tables(table_to_drop, test_df)\n",
    "\n",
    "tables_to_encode = ['HomePlanet', 'CryoSleep', 'Cabin', 'VIP', 'Transported']\n",
    "def encode_tables(tables, df):\n",
    "    df_copy = df.copy()\n",
    "    for table in tables:\n",
    "        df_copy[table] = df_copy[table].astype('category').cat.codes.astype('float64')\n",
    "    return df_copy\n",
    "\n",
    "train_df = encode_tables(tables_to_encode, train_df)\n",
    "test_df = encode_tables(tables_to_encode[:-1], test_df)\n",
    "\n",
    "labels = train_df['Transported']\n",
    "train_df = train_df.drop('Transported', axis=1)"
   ]
  },
  {
   "cell_type": "code",
   "execution_count": 8,
   "metadata": {},
   "outputs": [],
   "source": [
    "# TRAINING\n",
    "\n",
    "y_train = labels.to_numpy()\n",
    "x_train = train_df.to_numpy()\n",
    "x_test = test_df.to_numpy()\n",
    "y_test = test_df.to_numpy()\n",
    "\n",
    "rf_classifier = RandomForestClassifier()\n",
    "rf_classifier.fit(x_train, y_train)\n",
    "\n",
    "score = rf_classifier.score(x_train, y_train)\n",
    "print(score)"
   ]
  },
  {
   "cell_type": "code",
   "execution_count": 9,
   "metadata": {},
   "outputs": [
    {
     "name": "stdout",
     "output_type": "stream",
     "text": [
      "1.0\n"
     ]
    }
   ],
   "source": [
    "#  SUBMISSION\n",
    "\n",
    "submission = pd.DataFrame(columns=['PassengerId', 'Transported'])\n",
    "submission['PassengerId'] = column_ids\n",
    "print(submission['PassengerId'], x_test, train_df)\n",
    "submission.set_index('PassengerId')\n",
    "submission['Transported'] = rf_classifier.predict(x_test).astype('bool')\n",
    "\n",
    "submission.to_csv('submission.csv', index=False)"
   ]
  }
 ],
 "metadata": {
  "kernelspec": {
   "display_name": "Python 3",
   "language": "python",
   "name": "python3"
  },
  "language_info": {
   "codemirror_mode": {
    "name": "ipython",
    "version": 3
   },
   "file_extension": ".py",
   "mimetype": "text/x-python",
   "name": "python",
   "nbconvert_exporter": "python",
   "pygments_lexer": "ipython3",
   "version": "3.10.5"
  }
 },
 "nbformat": 4,
 "nbformat_minor": 2
}
