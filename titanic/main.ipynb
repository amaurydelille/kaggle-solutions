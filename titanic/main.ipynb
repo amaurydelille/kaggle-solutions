{
 "cells": [
  {
   "cell_type": "code",
   "execution_count": 7,
   "metadata": {},
   "outputs": [],
   "source": [
    "# IMPORTS\n",
    "\n",
    "import numpy as np \n",
    "import pandas as pd \n",
    "import random as rd\n",
    "import seaborn as sns\n",
    "from sklearn.ensemble import RandomForestClassifier"
   ]
  },
  {
   "cell_type": "code",
   "execution_count": 8,
   "metadata": {},
   "outputs": [],
   "source": [
    "# PRE-PROCESSING\n",
    "\n",
    "train_df = pd.read_csv('train.csv')\n",
    "test_df = pd.read_csv('test.csv')\n",
    "\n",
    "table_to_drop = ['Name', 'Destination', 'Spa', 'VRDeck']\n",
    "def drop_tables(tables, train_df):\n",
    "    train_df = train_df.drop(columns=tables)\n",
    "    return train_df\n",
    "\n",
    "train_df = drop_tables(table_to_drop, train_df)\n",
    "train_df = train_df.dropna(how = 'any')\n",
    "test_df = drop_tables(table_to_drop, test_df)\n",
    "test_df = test_df.dropna(how = 'any')\n",
    "\n",
    "tables_to_encode = ['PassengerId', 'HomePlanet', 'CryoSleep', 'Cabin', 'VIP', 'Transported']\n",
    "def encode_tables(tables, df):\n",
    "    copy = train_df\n",
    "    for table in tables:\n",
    "        copy[table] = copy[table].astype('category')\n",
    "        copy[table] = copy[table].cat.codes\n",
    "        copy[table] = copy[table].astype('float64')\n",
    "    return copy\n",
    "\n",
    "train_df = encode_tables(tables_to_encode, train_df)\n",
    "test_df = encode_tables(tables_to_encode, test_df)\n",
    "\n",
    "labels = train_df['Transported']\n",
    "train_df = train_df.drop('Transported', axis=1)"
   ]
  },
  {
   "cell_type": "code",
   "execution_count": 9,
   "metadata": {},
   "outputs": [
    {
     "name": "stdout",
     "output_type": "stream",
     "text": [
      "1.0\n"
     ]
    }
   ],
   "source": [
    "# TRAINING\n",
    "\n",
    "y_train = labels.to_numpy()\n",
    "x_train = train_df.to_numpy()\n",
    "x_test = test_df.to_numpy()\n",
    "y_test = test_df.to_numpy()\n",
    "\n",
    "\n",
    "rf_classifier = RandomForestClassifier()\n",
    "rf_classifier.fit(x_train, y_train)\n",
    "\n",
    "print(rf_classifier.score(x_train, y_train))"
   ]
  }
 ],
 "metadata": {
  "kernelspec": {
   "display_name": "Python 3",
   "language": "python",
   "name": "python3"
  },
  "language_info": {
   "codemirror_mode": {
    "name": "ipython",
    "version": 3
   },
   "file_extension": ".py",
   "mimetype": "text/x-python",
   "name": "python",
   "nbconvert_exporter": "python",
   "pygments_lexer": "ipython3",
   "version": "3.10.5"
  }
 },
 "nbformat": 4,
 "nbformat_minor": 2
}
