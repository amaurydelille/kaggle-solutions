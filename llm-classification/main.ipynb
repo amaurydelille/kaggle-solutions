{
 "cells": [
  {
   "cell_type": "code",
   "execution_count": 3,
   "id": "03981a24",
   "metadata": {},
   "outputs": [
    {
     "data": {
      "text/html": [
       "<div>\n",
       "<style scoped>\n",
       "    .dataframe tbody tr th:only-of-type {\n",
       "        vertical-align: middle;\n",
       "    }\n",
       "\n",
       "    .dataframe tbody tr th {\n",
       "        vertical-align: top;\n",
       "    }\n",
       "\n",
       "    .dataframe thead th {\n",
       "        text-align: right;\n",
       "    }\n",
       "</style>\n",
       "<table border=\"1\" class=\"dataframe\">\n",
       "  <thead>\n",
       "    <tr style=\"text-align: right;\">\n",
       "      <th></th>\n",
       "      <th>model_a</th>\n",
       "      <th>model_b</th>\n",
       "      <th>prompt</th>\n",
       "      <th>response_a</th>\n",
       "      <th>response_b</th>\n",
       "      <th>winner_model_a</th>\n",
       "      <th>winner_model_b</th>\n",
       "      <th>winner_tie</th>\n",
       "    </tr>\n",
       "    <tr>\n",
       "      <th>id</th>\n",
       "      <th></th>\n",
       "      <th></th>\n",
       "      <th></th>\n",
       "      <th></th>\n",
       "      <th></th>\n",
       "      <th></th>\n",
       "      <th></th>\n",
       "      <th></th>\n",
       "    </tr>\n",
       "  </thead>\n",
       "  <tbody>\n",
       "    <tr>\n",
       "      <th>30192</th>\n",
       "      <td>gpt-4-1106-preview</td>\n",
       "      <td>gpt-4-0613</td>\n",
       "      <td>[\"Is it morally right to try to have a certain...</td>\n",
       "      <td>[\"The question of whether it is morally right ...</td>\n",
       "      <td>[\"As an AI, I don't have personal beliefs or o...</td>\n",
       "      <td>1</td>\n",
       "      <td>0</td>\n",
       "      <td>0</td>\n",
       "    </tr>\n",
       "    <tr>\n",
       "      <th>53567</th>\n",
       "      <td>koala-13b</td>\n",
       "      <td>gpt-4-0613</td>\n",
       "      <td>[\"What is the difference between marriage lice...</td>\n",
       "      <td>[\"A marriage license is a legal document that ...</td>\n",
       "      <td>[\"A marriage license and a marriage certificat...</td>\n",
       "      <td>0</td>\n",
       "      <td>1</td>\n",
       "      <td>0</td>\n",
       "    </tr>\n",
       "    <tr>\n",
       "      <th>65089</th>\n",
       "      <td>gpt-3.5-turbo-0613</td>\n",
       "      <td>mistral-medium</td>\n",
       "      <td>[\"explain function calling. how would you call...</td>\n",
       "      <td>[\"Function calling is the process of invoking ...</td>\n",
       "      <td>[\"Function calling is the process of invoking ...</td>\n",
       "      <td>0</td>\n",
       "      <td>0</td>\n",
       "      <td>1</td>\n",
       "    </tr>\n",
       "    <tr>\n",
       "      <th>96401</th>\n",
       "      <td>llama-2-13b-chat</td>\n",
       "      <td>mistral-7b-instruct</td>\n",
       "      <td>[\"How can I create a test set for a very rare ...</td>\n",
       "      <td>[\"Creating a test set for a very rare category...</td>\n",
       "      <td>[\"When building a classifier for a very rare c...</td>\n",
       "      <td>1</td>\n",
       "      <td>0</td>\n",
       "      <td>0</td>\n",
       "    </tr>\n",
       "    <tr>\n",
       "      <th>198779</th>\n",
       "      <td>koala-13b</td>\n",
       "      <td>gpt-3.5-turbo-0314</td>\n",
       "      <td>[\"What is the best way to travel from Tel-Aviv...</td>\n",
       "      <td>[\"The best way to travel from Tel Aviv to Jeru...</td>\n",
       "      <td>[\"The best way to travel from Tel-Aviv to Jeru...</td>\n",
       "      <td>0</td>\n",
       "      <td>1</td>\n",
       "      <td>0</td>\n",
       "    </tr>\n",
       "  </tbody>\n",
       "</table>\n",
       "</div>"
      ],
      "text/plain": [
       "                   model_a              model_b  \\\n",
       "id                                                \n",
       "30192   gpt-4-1106-preview           gpt-4-0613   \n",
       "53567            koala-13b           gpt-4-0613   \n",
       "65089   gpt-3.5-turbo-0613       mistral-medium   \n",
       "96401     llama-2-13b-chat  mistral-7b-instruct   \n",
       "198779           koala-13b   gpt-3.5-turbo-0314   \n",
       "\n",
       "                                                   prompt  \\\n",
       "id                                                          \n",
       "30192   [\"Is it morally right to try to have a certain...   \n",
       "53567   [\"What is the difference between marriage lice...   \n",
       "65089   [\"explain function calling. how would you call...   \n",
       "96401   [\"How can I create a test set for a very rare ...   \n",
       "198779  [\"What is the best way to travel from Tel-Aviv...   \n",
       "\n",
       "                                               response_a  \\\n",
       "id                                                          \n",
       "30192   [\"The question of whether it is morally right ...   \n",
       "53567   [\"A marriage license is a legal document that ...   \n",
       "65089   [\"Function calling is the process of invoking ...   \n",
       "96401   [\"Creating a test set for a very rare category...   \n",
       "198779  [\"The best way to travel from Tel Aviv to Jeru...   \n",
       "\n",
       "                                               response_b  winner_model_a  \\\n",
       "id                                                                          \n",
       "30192   [\"As an AI, I don't have personal beliefs or o...               1   \n",
       "53567   [\"A marriage license and a marriage certificat...               0   \n",
       "65089   [\"Function calling is the process of invoking ...               0   \n",
       "96401   [\"When building a classifier for a very rare c...               1   \n",
       "198779  [\"The best way to travel from Tel-Aviv to Jeru...               0   \n",
       "\n",
       "        winner_model_b  winner_tie  \n",
       "id                                  \n",
       "30192                0           0  \n",
       "53567                1           0  \n",
       "65089                0           1  \n",
       "96401                0           0  \n",
       "198779               1           0  "
      ]
     },
     "execution_count": 3,
     "metadata": {},
     "output_type": "execute_result"
    }
   ],
   "source": [
    "import pandas as pd\n",
    "import numpy as np\n",
    "from dotenv import load_dotenv\n",
    "import os\n",
    "\n",
    "load_dotenv()\n",
    "\n",
    "ROOT_DIR = os.getenv(\"ROOT_DIR\")\n",
    "\n",
    "train_df = pd.read_csv(f\"{ROOT_DIR}/llm-classification/train.csv\")\n",
    "train_df.set_index(\"id\", inplace=True)\n",
    "train_df.head()"
   ]
  },
  {
   "cell_type": "code",
   "execution_count": 6,
   "id": "eba70981",
   "metadata": {},
   "outputs": [
    {
     "data": {
      "text/plain": [
       "model_a\n",
       "gpt-4-1106-preview          3678\n",
       "gpt-3.5-turbo-0613          3553\n",
       "gpt-4-0613                  3099\n",
       "claude-2.1                  2859\n",
       "gpt-4-0314                  2087\n",
       "                            ... \n",
       "falcon-180b-chat             145\n",
       "openchat-3.5-0106            108\n",
       "qwen1.5-7b-chat              106\n",
       "qwen1.5-4b-chat              100\n",
       "mistral-7b-instruct-v0.2      54\n",
       "Name: count, Length: 64, dtype: int64"
      ]
     },
     "execution_count": 6,
     "metadata": {},
     "output_type": "execute_result"
    }
   ],
   "source": [
    "train_df[\"model_a\"].value_counts()"
   ]
  },
  {
   "cell_type": "code",
   "execution_count": 7,
   "id": "d5c87963",
   "metadata": {},
   "outputs": [
    {
     "data": {
      "text/plain": [
       "model_a           0\n",
       "model_b           0\n",
       "prompt            0\n",
       "response_a        0\n",
       "response_b        0\n",
       "winner_model_a    0\n",
       "winner_model_b    0\n",
       "winner_tie        0\n",
       "dtype: int64"
      ]
     },
     "execution_count": 7,
     "metadata": {},
     "output_type": "execute_result"
    }
   ],
   "source": [
    "train_df.isna().sum()"
   ]
  },
  {
   "cell_type": "code",
   "execution_count": null,
   "id": "ddfe4394",
   "metadata": {},
   "outputs": [],
   "source": [
    "from sklearn.preprocessing import OneHotEncoder\n",
    "from sklearn.compose import ColumnTransformer\n",
    "\n",
    "categorical_features = [\"model_a\"]\n",
    "\n",
    "encoder = OneHotEncoder(sparse_output=False, handle_unknown=\"ignore\")\n"
   ]
  }
 ],
 "metadata": {
  "kernelspec": {
   "display_name": "Python 3",
   "language": "python",
   "name": "python3"
  },
  "language_info": {
   "codemirror_mode": {
    "name": "ipython",
    "version": 3
   },
   "file_extension": ".py",
   "mimetype": "text/x-python",
   "name": "python",
   "nbconvert_exporter": "python",
   "pygments_lexer": "ipython3",
   "version": "3.12.3"
  }
 },
 "nbformat": 4,
 "nbformat_minor": 5
}
