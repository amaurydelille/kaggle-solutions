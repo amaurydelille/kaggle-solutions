{
 "cells": [
  {
   "cell_type": "code",
   "execution_count": null,
   "metadata": {},
   "outputs": [],
   "source": [
    "import pandas as pd\n",
    "import matplotlib.pyplot as plt\n",
    "import numpy as np\n",
    "\n",
    "# preprocessing\n",
    "from sklearn.pipeline import Pipeline\n",
    "from sklearn.impute import SimpleImputer\n",
    "\n",
    "# training\n",
    "from tensorflow import keras\n",
    "from keras import layers\n",
    "from scikeras.wrappers import KerasRegressor\n",
    "from sklearn.model_selection import cross_val_score\n",
    "\n",
    "train_df = pd.read_csv('./training.csv')\n",
    "test_df = pd.read_csv('./test.csv')"
   ]
  },
  {
   "cell_type": "code",
   "execution_count": null,
   "metadata": {},
   "outputs": [],
   "source": [
    "image_list = []\n",
    "for i in range(train_df['Image'].count()):\n",
    "    image = train_df['Image'][i].split(' ')\n",
    "    image_list.append(image)\n",
    "\n",
    "print(image_list)\n",
    "\n",
    "input_shape = len(image_list[0])\n",
    "\n",
    "def create_model():\n",
    "    model = keras.Sequential([\n",
    "        layers.Dense(units=150, activation='relu', input_shape=[input_shape]),\n",
    "        layers.Dense(units=50, activation='sigmoid'),\n",
    "        layers.Dense(units=1)\n",
    "    ])\n",
    "\n",
    "    model.compile(optimizer='adam', loss='mean_squared_error', metrics=['accuracy'])\n",
    "    return model\n",
    "\n",
    "wrapped_model = KerasRegressor(build_fn=create_model(), verbose=0)\n",
    "\n",
    "process_pipeline = Pipeline(steps=[\n",
    "        ('proprocessing', SimpleImputer(missing_values=np.nan, strategy='most_frequent')),\n",
    "        ('model', wrapped_model)\n",
    "    ])\n"
   ]
  },
  {
   "cell_type": "code",
   "execution_count": null,
   "metadata": {},
   "outputs": [],
   "source": [
    "y_train = train_df[['Image']]\n",
    "y_train = SimpleImputer(missing_values=np.nan, strategy='most_frequent').fit_transform(y_train)\n",
    "\n",
    "image_list_array = np.array(image_list, dtype=\"float\")\n",
    "x_train = image_list_array.reshape(-1, 96, 96, 1)\n",
    "# plt.imshow(train_x[5].reshape(96,96),cmap='gray')\n",
    "# plt.show()"
   ]
  },
  {
   "cell_type": "code",
   "execution_count": null,
   "metadata": {},
   "outputs": [],
   "source": [
    "num_samples = x_train.shape[0]\n",
    "height = x_train.shape[1]\n",
    "width = x_train.shape[2]\n",
    "channels = x_train.shape[3]\n",
    "\n",
    "x_train_flattened = x_train.reshape(num_samples, height * width * channels)\n",
    "\n",
    "process_pipeline.fit(x_train_flattened, y_train)\n",
    "scores = -1 * cross_val_score(x_train_flattened, y_train, cv=5, scoring='neg_mean_squared_error')\n",
    "print(scores)"
   ]
  }
 ],
 "metadata": {
  "kernelspec": {
   "display_name": "Python 3",
   "language": "python",
   "name": "python3"
  },
  "language_info": {
   "codemirror_mode": {
    "name": "ipython",
    "version": 3
   },
   "file_extension": ".py",
   "mimetype": "text/x-python",
   "name": "python",
   "nbconvert_exporter": "python",
   "pygments_lexer": "ipython3",
   "version": "3.10.5"
  }
 },
 "nbformat": 4,
 "nbformat_minor": 2
}
